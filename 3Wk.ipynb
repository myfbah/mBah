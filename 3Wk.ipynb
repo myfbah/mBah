{
 "metadata": {
  "language_info": {
   "codemirror_mode": {
    "name": "ipython",
    "version": 3
   },
   "file_extension": ".py",
   "mimetype": "text/x-python",
   "name": "python",
   "nbconvert_exporter": "python",
   "pygments_lexer": "ipython3",
   "version": "3.9.4"
  },
  "orig_nbformat": 2,
  "kernelspec": {
   "name": "python394jvsc74a57bd03ef6cae3825b0b301d1cad4f0a6afea2eb1fcc45dab383562c407b5045b6a1d6",
   "display_name": "Python 3.9.4 64-bit"
  },
  "metadata": {
   "interpreter": {
    "hash": "3ef6cae3825b0b301d1cad4f0a6afea2eb1fcc45dab383562c407b5045b6a1d6"
   }
  }
 },
 "nbformat": 4,
 "nbformat_minor": 2,
 "cells": [
  {
   "cell_type": "code",
   "execution_count": 15,
   "metadata": {},
   "outputs": [],
   "source": [
    "import numpy as np"
   ]
  },
  {
   "cell_type": "code",
   "execution_count": 16,
   "metadata": {},
   "outputs": [
    {
     "output_type": "error",
     "ename": "ValueError",
     "evalue": "shapes (3,4) and (3,4) not aligned: 4 (dim 1) != 3 (dim 0)",
     "traceback": [
      "\u001b[1;31m---------------------------------------------------------------------------\u001b[0m",
      "\u001b[1;31mValueError\u001b[0m                                Traceback (most recent call last)",
      "\u001b[1;32m<ipython-input-16-d4284f40771b>\u001b[0m in \u001b[0;36m<module>\u001b[1;34m\u001b[0m\n\u001b[0;32m      1\u001b[0m \u001b[0ma\u001b[0m \u001b[1;33m=\u001b[0m \u001b[0mnp\u001b[0m\u001b[1;33m.\u001b[0m\u001b[0marange\u001b[0m\u001b[1;33m(\u001b[0m\u001b[1;36m12\u001b[0m\u001b[1;33m)\u001b[0m\u001b[1;33m.\u001b[0m\u001b[0mreshape\u001b[0m\u001b[1;33m(\u001b[0m\u001b[1;36m3\u001b[0m\u001b[1;33m,\u001b[0m\u001b[1;36m4\u001b[0m\u001b[1;33m)\u001b[0m\u001b[1;33m\u001b[0m\u001b[1;33m\u001b[0m\u001b[0m\n\u001b[0;32m      2\u001b[0m \u001b[0mb\u001b[0m \u001b[1;33m=\u001b[0m \u001b[0mnp\u001b[0m\u001b[1;33m.\u001b[0m\u001b[0marange\u001b[0m\u001b[1;33m(\u001b[0m\u001b[1;36m10\u001b[0m\u001b[1;33m,\u001b[0m\u001b[1;36m22\u001b[0m\u001b[1;33m)\u001b[0m\u001b[1;33m.\u001b[0m\u001b[0mreshape\u001b[0m\u001b[1;33m(\u001b[0m\u001b[1;36m3\u001b[0m\u001b[1;33m,\u001b[0m\u001b[1;36m4\u001b[0m\u001b[1;33m)\u001b[0m\u001b[1;33m\u001b[0m\u001b[1;33m\u001b[0m\u001b[0m\n\u001b[1;32m----> 3\u001b[1;33m \u001b[0mc\u001b[0m \u001b[1;33m=\u001b[0m \u001b[0mnp\u001b[0m\u001b[1;33m.\u001b[0m\u001b[0mdot\u001b[0m\u001b[1;33m(\u001b[0m\u001b[0ma\u001b[0m\u001b[1;33m,\u001b[0m \u001b[0mb\u001b[0m\u001b[1;33m)\u001b[0m\u001b[1;33m\u001b[0m\u001b[1;33m\u001b[0m\u001b[0m\n\u001b[0m\u001b[0;32m      4\u001b[0m \u001b[1;33m\u001b[0m\u001b[0m\n\u001b[0;32m      5\u001b[0m \u001b[0mprint\u001b[0m\u001b[1;33m(\u001b[0m\u001b[0mc\u001b[0m\u001b[1;33m)\u001b[0m\u001b[1;33m\u001b[0m\u001b[1;33m\u001b[0m\u001b[0m\n",
      "\u001b[1;32m<__array_function__ internals>\u001b[0m in \u001b[0;36mdot\u001b[1;34m(*args, **kwargs)\u001b[0m\n",
      "\u001b[1;31mValueError\u001b[0m: shapes (3,4) and (3,4) not aligned: 4 (dim 1) != 3 (dim 0)"
     ]
    }
   ],
   "source": [
    "a = np.arange(12).reshape(3,4)\n",
    "b = np.arange(10,22).reshape(3,4)\n",
    "c = np.dot(a, b)\n",
    "\n",
    "print(c)"
   ]
  },
  {
   "cell_type": "code",
   "execution_count": 5,
   "metadata": {},
   "outputs": [],
   "source": [
    "a = np.arange(1,5).reshape(2,2)\n",
    "b = np.arange(6,10).reshape(2,2)\n",
    "c = np.dot(a, b)"
   ]
  },
  {
   "cell_type": "code",
   "execution_count": 9,
   "metadata": {},
   "outputs": [
    {
     "output_type": "stream",
     "name": "stdout",
     "text": [
      "[[1, 2, 3, 4, 5], [6, 7, 8, 9, 10], [11, 12, 13, 14, 15]]\n"
     ]
    }
   ],
   "source": [
    "mylist = [[1,2,3,4,5],[6,7,8,9,10],[11,12,13,14,15]]\n",
    "\n",
    "print(mylist)"
   ]
  },
  {
   "cell_type": "code",
   "execution_count": 3,
   "metadata": {},
   "outputs": [
    {
     "output_type": "stream",
     "name": "stdout",
     "text": [
      "[0, 1, 2, 3, 4, 5, 6, 7, 8, 9]\n[0 1 2 3 4 5 6 7 8 9]\n\n\n[[1, 2, 3], [4, 5, 6], [7, 8, 9]]\n[[1. 1. 1.]\n [1. 1. 1.]\n [1. 1. 1.]]\n[[ True  True  True]\n [ True  True  True]\n [ True  True  True]]\n\n\n[1, 3, 5, 7, 9]\n\n\n[ 0 -1  2 -1  4 -1  6 -1  8 -1]\n\n\n[[ 1  2  3  4  5]\n [ 6  7  8  9 10]]\n"
     ]
    }
   ],
   "source": [
    "# 1. Create a 1D array of numbers from 0 to 9\n",
    "array1d = ([0,1,2,3,4,5,6,7,8,9])\n",
    "print(array1d)\n",
    "#/\n",
    "array1d = np.arange(10)\n",
    "print(array1d)\n",
    "print(\"\\n\")\n",
    "\n",
    "# 2. Create a 3×3 NumPy array of all Boolean value Trues\n",
    "array3d = ([[1,2,3],[4,5,6],[7,8,9]])\n",
    "print(array3d)\n",
    "array3d = np.ones(9)\n",
    "array3d2 = array3d.reshape(3,3)\n",
    "print(array3d2)\n",
    "boolarra = np.ones((3,3), dtype = bool)\n",
    "print(boolarra)\n",
    "print(\"\\n\")\n",
    "\n",
    "# 3. Extract all odd numbers from array of 1-10\n",
    "arrayX= ([1,2,3,4,5,6,7,8,9,10])\n",
    "ArrayXSlice = arrayX[::2]\n",
    "print(ArrayXSlice)\n",
    "print(\"\\n\")\n",
    "\n",
    "#4. Replace all odd numbers in an array of 1-10 with the value -1\n",
    "array1d[array1d%2 == 1] = -1\n",
    "print(array1d)\n",
    "print(\"\\n\")\n",
    "\n",
    "# 5. Convert a 1D array to a 2D array with 2 rows\n",
    "arayt = np.array([1,2,3,4,5,6,7,8,9,10])\n",
    "Transarray = arayt.reshape(2, 5)\n",
    "print(Transarray)"
   ]
  },
  {
   "cell_type": "code",
   "execution_count": 17,
   "metadata": {},
   "outputs": [
    {
     "output_type": "stream",
     "name": "stdout",
     "text": [
      "[1. 1. 1. 2. 2. 2. 3. 3. 3. 1. 2. 3. 1. 2. 3. 1. 2. 3.]\n\n[1 2 3 4 5 4 5 6 7 8 9]\n[1 2 3 4 5 6 7 8 9]\n\n[4 5 4 5 6]\n24\n"
     ]
    }
   ],
   "source": [
    "# 1. Create the following pattern without hardcoding. Use only NumPy functions. 111222333123123123\n",
    "ar = np.ones(3)\n",
    "ar1 = np.arange(1,4)\n",
    "ar2 = np.concatenate((ar, ar*2, ar*3, ar1, ar1, ar1))\n",
    "print(ar2)\n",
    "\n",
    "print(\"\")\n",
    "#2. In two arrays a ( 1,2,3,4,5) and b ( 4,5,6,7,8,9) – remove all repeating items present in array b\n",
    "\n",
    "a1 = np.arange(1, 6)\n",
    "a2 = np.array([4,5,6,7,8,9])\n",
    "aa = np.concatenate((a1, a2))\n",
    "print(aa)\n",
    "print(np.unique(aa))\n",
    "\n",
    "print(\"\")\n",
    "#3. Get all items between 3 and 7 from a and b and sum themtogether\n",
    "print(aa[3:8])\n",
    "print(np.sum(aa[3:8]))"
   ]
  },
  {
   "cell_type": "code",
   "execution_count": 18,
   "metadata": {},
   "outputs": [],
   "source": [
    "\"\"\"Write a program that allows you to enter 4 numbers and stores them in a file called “Numbers”\n",
    "• 3\n",
    "• 45\n",
    "• 83\n",
    "• 21\n",
    "Have a go at ‘w’ ‘r’ ‘a’ \"\"\"\n",
    "num = input(\"choose number \")\n",
    "num1 = input(\"choose number 2\")\n",
    "num2 = input(\"choose number 3\")\n",
    "num3 = input(\"choose number 4\")\n",
    "\n"
   ]
  },
  {
   "cell_type": "code",
   "execution_count": 4,
   "metadata": {},
   "outputs": [],
   "source": [
    "a1 = open(\"numbers.txt\", \"w\")\n",
    "a1.write(num+\"\\n\"+num1+\"\\n\"+num2)\n",
    "a1.close()"
   ]
  },
  {
   "cell_type": "code",
   "execution_count": 5,
   "metadata": {},
   "outputs": [
    {
     "output_type": "execute_result",
     "data": {
      "text/plain": [
       "<function TextIOWrapper.close()>"
      ]
     },
     "metadata": {},
     "execution_count": 5
    }
   ],
   "source": [
    "a3 = open(\"numbers.txt\", \"a\")\n",
    "a3.write(\"\\n\"+num3)\n",
    "a3.close"
   ]
  },
  {
   "cell_type": "code",
   "execution_count": 31,
   "metadata": {},
   "outputs": [
    {
     "output_type": "stream",
     "name": "stdout",
     "text": [
      "3\n45\n83\n21\n"
     ]
    }
   ],
   "source": [
    "a2 = open(\"numbers.txt\", \"r\")\n",
    "print(a2.read())"
   ]
  },
  {
   "cell_type": "code",
   "execution_count": 20,
   "metadata": {},
   "outputs": [
    {
     "output_type": "stream",
     "name": "stdout",
     "text": [
      "invalid input\n",
      "You have achieved a First Class degree\n"
     ]
    }
   ],
   "source": [
    "\"\"\" Write a program to ask a student for their percentage mark and convert this to a grade.... Call the grade mark_grade\"\"\"\n",
    "\n",
    "def mark_grade(): \n",
    "    percentage = float(0)\n",
    "   \n",
    "    try:\n",
    "        percentage = float(input(\"Please enter your score out of 100\"))\n",
    "    except:\n",
    "        print(\"invalid input\")\n",
    "        percentage = float(input(\"Please enter your score out of 100\"))\n",
    "    \n",
    "    while percentage < 0 and percentage > 101:\n",
    "        print(\"invalid input\")\n",
    "    else:\n",
    "        if percentage > 69:\n",
    "            print(\"You have achieved a First Class degree\")\n",
    "        elif percentage <= 69 and percentage > 59:\n",
    "            print(\"You have achieved a 2:1 degree\")\n",
    "        elif percentage <= 59 and percentage > 49:\n",
    "            print(\"You have achieved a 2:2 degree\")\n",
    "        elif percentage < 40:\n",
    "            print(\"You have Failed your course\")\n",
    "        else:\n",
    "            print(\"You have achieved a Third Class degree\")    \n",
    "        \n",
    "mark_grade()"
   ]
  },
  {
   "cell_type": "code",
   "execution_count": 21,
   "metadata": {},
   "outputs": [],
   "source": [
    "def mark():\n",
    "    percentage = float(0)\n",
    "   \n",
    "    try:\n",
    "        percentage = float(input(\"Please enter your score out of 100\"))\n",
    "    except:\n",
    "        print(\"invalid input\")\n",
    "        percentage = float(input(\"Please enter your score out of 100\"))\n",
    "    \n",
    "    while percentage < 0 and percentage > 101:\n",
    "        print(\"invalid input\")\n",
    "    else:\n",
    "        return percentage"
   ]
  },
  {
   "cell_type": "code",
   "execution_count": 28,
   "metadata": {},
   "outputs": [
    {
     "output_type": "stream",
     "name": "stdout",
     "text": [
      "invalid input\n",
      "You were 12.5 percentage marks away from achieving your target grade\n"
     ]
    }
   ],
   "source": [
    "\"\"\" Extension to Task 2 • Ask the user for their target grade and print this with their mark • If their target grade > exam grade display a suitable message • If their target grade = exam grade display a suitable message • If their target grade < exam grade display a suitable message \"\"\"\n",
    "Code = [\"A\",\"a\",\"B\",\"b\",\"C\",\"c\",\"D\",\"d\"]\n",
    "\n",
    "percentage = float(mark())\n",
    "target = str(input(\"What grade did you target for yourself? \\n Type \\\"A\\\" if your target was a First class degree \\t Type \\\"A\\\" if your target was a First class degree \\t Type \\\"B\\\" if your target was a 2:1 degree \\t Type \\\"C\\\" if your target was a 2:2 degree\"))\n",
    "\n",
    "while target not in Code:\n",
    "    print(\"Invalid input\")\n",
    "    target = str(input(\"What grade did you target for yourself? \\n Type \\\"A\\\" if your target was a First class degree \\t Type \\\"A\\\" if your target was a First class degree \\t Type \\\"B\\\" if your target was a 2:1 degree \\t Type \\\"C\\\" if your target was a 2:2 degree \\t Type \\\"D\\\" if your target was a Third class degree\"))\n",
    "else:\n",
    "    if target == \"A\" or target == \"a\":\n",
    "        if percentage >= 70.0:\n",
    "            print(\"Congratulations You have achieved your target grade by\", percentage - 70.0,\"marks\")\n",
    "        else:\n",
    "            print(\"You were\", 70.0 - percentage, \"percentage marks away from achieving your target grade\")\n",
    "    elif target == \"B\" or target == \"b\":\n",
    "        if percentage >= 60.0:\n",
    "            print(\"Congratulations You have achieved your target grade by\", percentage - 60.0,\"marks\")\n",
    "        else:\n",
    "            print(\"You were\", 60.0 - percentage, \"percentage marks away from achieving your target grade\")\n",
    "    elif target == \"C\" or target == \"c\":\n",
    "        if percentage >= 50.0:\n",
    "            print(\"Congratulations You have achieved your target grade by\", percentage - 50.0,\"marks\")\n",
    "        else:\n",
    "            print(\"You were\", 50.0 - percentage, \"percentage marks away from achieving your target grade\")\n",
    "    else:\n",
    "        if percentage >= 40.0:\n",
    "            print(\"Congratulations You have achieved your target grade by\", percentage - 40.0,\"marks\")\n",
    "        else:\n",
    "            print(\"You were\", 40.0 - percentage, \"percentage marks away from achieving your target grade\")"
   ]
  }
 ]
}