{
 "metadata": {
  "language_info": {
   "codemirror_mode": {
    "name": "ipython",
    "version": 3
   },
   "file_extension": ".py",
   "mimetype": "text/x-python",
   "name": "python",
   "nbconvert_exporter": "python",
   "pygments_lexer": "ipython3",
   "version": "3.9.4"
  },
  "orig_nbformat": 2,
  "kernelspec": {
   "name": "python394jvsc74a57bd03ef6cae3825b0b301d1cad4f0a6afea2eb1fcc45dab383562c407b5045b6a1d6",
   "display_name": "Python 3.9.4 64-bit"
  },
  "metadata": {
   "interpreter": {
    "hash": "3ef6cae3825b0b301d1cad4f0a6afea2eb1fcc45dab383562c407b5045b6a1d6"
   }
  }
 },
 "nbformat": 4,
 "nbformat_minor": 2,
 "cells": [
  {
   "cell_type": "code",
   "execution_count": 17,
   "metadata": {},
   "outputs": [
    {
     "output_type": "stream",
     "name": "stdout",
     "text": [
      "You selected 73 This number is greater than 10\n"
     ]
    }
   ],
   "source": [
    "\"\"\"Task 1: Write a program that asks the user for an integer number and checks if it is > 10. If it is, it will print “Number is Greater than 10”, else “Number is smaller than 10”.\"\"\"\n",
    "\n",
    "Q = int(input(\"Type in any whole number\"))\n",
    "if == 10:\n",
    "    print(\"You selected\", Q, \"Why is the number 10 afraid of seven? Because seven ate nine, and 10 is next.\")\n",
    "elif Q <= 10:\n",
    "    print(\"You selected\", Q, \"This number is smaller than 10\")\n",
    "else:\n",
    "    print(\"You selected\", Q, \"This number is greater than 10\")"
   ]
  },
  {
   "cell_type": "code",
   "execution_count": 26,
   "metadata": {},
   "outputs": [
    {
     "output_type": "stream",
     "name": "stdout",
     "text": [
      "7\n8\n9\n10\n"
     ]
    }
   ],
   "source": [
    "\"\"\"Task 2: write a loop program that ask the user for an integer number and check if it is < 10. If it is < 10 then it keeps adding 1 to the value.\"\"\"\n",
    "\n",
    "x = int(input(\"Type in a whole number\"))\n",
    "while x < 10:\n",
    "    print(x)\n",
    "    x += 1\n",
    "else:\n",
    "    print(x)"
   ]
  },
  {
   "cell_type": "code",
   "execution_count": 14,
   "metadata": {},
   "outputs": [
    {
     "output_type": "stream",
     "name": "stdout",
     "text": [
      "Invalid selection. Please try again\n",
      "You have selected 4 burger(s) meal(s) For a total price of £ 18.00\n"
     ]
    }
   ],
   "source": [
    "\"\"\" Task 3: Create your own Data Flow Diagram (DFD), a subject of your own choice, Example: Fast food order and convert it into code \"\"\"\n",
    "\n",
    "A = \"burger(s)\"\n",
    "B = \"wrap(s)\"\n",
    "C = \"wings\"\n",
    "s = \"You have selected {} {}\"\n",
    "s2 = \"You have selected {} {} meal(s)\"\n",
    "\n",
    "main = input(\"Type \\\"A\\\" if you would like to select a burger, \\\"B\\\"to select wrap, \\\"C\\\" to select wings\")\n",
    "meal = input(\"Would you like to upgrade your order to a meal: Y = Yes  N = No\")\n",
    "quant = int(input(\"Type your order quantity\"))\n",
    "\n",
    "while main not in [\"A\", \"B\", \"C\", \"a\", \"b\", \"c\"]:\n",
    "    print(\"Invalid selection. Please try again\")\n",
    "    main = input(\"Type \\\"A\\\" if you would like to select a burger, \\\"B\\\"to select wrap, \\\"C\\\" to select wings\")\n",
    "else:\n",
    "    if main == \"A\" or main == \"a\":\n",
    "        if meal == \"Y\" or meal == \"y\" or meal == \"yes\":\n",
    "            print(s2.format(quant, A), \"For a total price of £\", \"{:.2f}\".format(quant*4.5))\n",
    "        else:\n",
    "            print(s.format(quant, A), \"For a total price of £\", \"{:.2f}\".format(quant*3))\n",
    "    elif main == \"B\" or main == \"b\":\n",
    "        if meal == \"Y\" or meal == \"y\" or meal == \"yes\":\n",
    "            print(s2.format(quant, B), \"For a total price of £\", \"{:.2f}\".format(quant*3.5))\n",
    "        else:\n",
    "            print(s.format(quant, B), \"For a total price of £\", \"{:.2f}\".format(quant*2))\n",
    "    elif main == \"C\" or main == \"c\":\n",
    "        if meal == \"Y\" or meal == \"y\" or meal == \"yes\":\n",
    "            print(s2.format(quant, C), \"For a total price of £\", \"{:.2f}\".format(quant*3))\n",
    "        else:\n",
    "            print(s.format(quant, C), \"For a total price of £\", \"{:.2f}\".format(quant*1.5))"
   ]
  },
  {
   "cell_type": "code",
   "execution_count": 25,
   "metadata": {},
   "outputs": [],
   "source": [
    "\"\"\" Task 4: As an extension to the motorbike task that costs £2000 and loses 10% of its value every year. Set up a function that performs the calculation by passing in parameters. Then using a loop, print the value of the bike every following year until it falls below £1000.\"\"\"\n",
    "#function\n",
    "def BikeFunction():\n",
    "    b = 1\n",
    "    a = 2000\n",
    "    statement = \"The motorbike will have a value of £{} in Year {}.\"\n",
    "    while a > 0:\n",
    "     print(statement.format(round(a,2),b))\n",
    "     if (a < 1000):\n",
    "      break\n",
    "     a *= .9\n",
    "     b += 1"
   ]
  },
  {
   "cell_type": "code",
   "execution_count": 27,
   "metadata": {},
   "outputs": [
    {
     "output_type": "stream",
     "name": "stdout",
     "text": [
      "The motorbike will have a value of £2000 in Year 1.\nThe motorbike will have a value of £1800.0 in Year 2.\nThe motorbike will have a value of £1620.0 in Year 3.\nThe motorbike will have a value of £1458.0 in Year 4.\nThe motorbike will have a value of £1312.2 in Year 5.\nThe motorbike will have a value of £1180.98 in Year 6.\nThe motorbike will have a value of £1062.88 in Year 7.\nThe motorbike will have a value of £956.59 in Year 8.\n"
     ]
    }
   ],
   "source": [
    "BikeFunction()\n",
    "\"\"\" Task 4: As an extension to the motorbike task that costs £2000 and loses 10% of its value every year. Set up a function that performs the calculation by passing in parameters. Then using a loop, print the value of the bike every following year until it falls below £1000.\"\"\""
   ]
  },
  {
   "cell_type": "code",
   "execution_count": null,
   "metadata": {},
   "outputs": [],
   "source": [
    "def BikePrice(year, price, depr):\n",
    "    year += 1\n",
    "    price *= depr\n",
    "    return year, price"
   ]
  },
  {
   "cell_type": "code",
   "execution_count": null,
   "metadata": {},
   "outputs": [],
   "source": [
    "priceY1 = 2000\n",
    "Y1 = 1\n",
    "Set_depr = 0.9"
   ]
  },
  {
   "cell_type": "code",
   "execution_count": null,
   "metadata": {},
   "outputs": [],
   "source": [
    "while priceY1 > 1000:\n",
    "    Y1, priceY1 = BikePrice(Y1, priceY1, Set_depr)\n",
    "\n",
    "    print(\"The motorbike will have a value of £\", round(priceY1,2), \"in Year\", Y1)"
   ]
  },
  {
   "cell_type": "code",
   "execution_count": 50,
   "metadata": {},
   "outputs": [],
   "source": [
    "\"\"\"Task 5:  Write a program which will ask for two numbers from a user. Then offer an option menu to the user giving them a choice of maths operators. Once the user has selected which operator they wish to use, perform the calculation by using a procedure and passing parameters.\"\"\"\n",
    "\n",
    "def Calculator(n1, n2):\n",
    "    \n",
    "    op = [\"+\",\"-\",\"/\",\"*\",\"**\"]\n",
    "    s2 = \"{} {} {} =\"\n",
    "    print(\"Choose your maths operator by typing one of the following:\")\n",
    "    print(\"Enter a for +        Enter b for -        Enter c for /        Enter d for *        Enter e for **\")\n",
    "\n",
    "    ops = str(input(\"Enter your selected operator\"))\n",
    "\n",
    "    while ops not in [\"a\", \"b\", \"c\", \"d\", \"e\"]:\n",
    "        print(\"Invalid input. Please try again\")\n",
    "        ops = str(input(\"Enter your selected operator\"))\n",
    "    else:\n",
    "        if ops == \"a\":\n",
    "            print(s2.format(n1,op[0],n2),n1 + n2)\n",
    "        elif ops == \"b\":\n",
    "            print(s2.format(n1,op[1],n2),n1 - n2)\n",
    "        elif ops == \"c\":\n",
    "            print(s2.format(n1,op[2],n2),n1 / n2)\n",
    "        elif ops == \"d\":\n",
    "            print(s2.format(n1,op[3],n2),n1 * n2)\n",
    "        else:\n",
    "            print(s2.format(n1,op[4],n2),n1 ** n2)"
   ]
  },
  {
   "cell_type": "code",
   "execution_count": 55,
   "metadata": {},
   "outputs": [
    {
     "output_type": "stream",
     "name": "stdout",
     "text": [
      "choose two numbers\n",
      "You have selected  2.2  and  5.0\n"
     ]
    }
   ],
   "source": [
    "print(\"choose two numbers\")\n",
    "num1, num2 = float(input(\"Enter your 1st value\")), float(input(\"Enter your 2nd value\"))\n",
    "print(\"You have selected \",num1, \" and \",num2)"
   ]
  },
  {
   "cell_type": "code",
   "execution_count": 56,
   "metadata": {},
   "outputs": [
    {
     "output_type": "stream",
     "name": "stdout",
     "text": [
      "Choose your maths operator by typing one of the following:\n",
      "Enter a for +        Enter b for -        Enter c for /        Enter d for *        Enter e for **\n",
      "2.2 ** 5.0 = 51.53632000000002\n"
     ]
    }
   ],
   "source": [
    "Calculator(num1, num2)"
   ]
  },
  {
   "cell_type": "code",
   "execution_count": null,
   "metadata": {},
   "outputs": [],
   "source": []
  }
 ]
}