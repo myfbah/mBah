{
 "metadata": {
  "language_info": {
   "codemirror_mode": {
    "name": "ipython",
    "version": 3
   },
   "file_extension": ".py",
   "mimetype": "text/x-python",
   "name": "python",
   "nbconvert_exporter": "python",
   "pygments_lexer": "ipython3",
   "version": "3.9.4"
  },
  "orig_nbformat": 2,
  "kernelspec": {
   "name": "python394jvsc74a57bd03ef6cae3825b0b301d1cad4f0a6afea2eb1fcc45dab383562c407b5045b6a1d6",
   "display_name": "Python 3.9.4 64-bit"
  },
  "metadata": {
   "interpreter": {
    "hash": "3ef6cae3825b0b301d1cad4f0a6afea2eb1fcc45dab383562c407b5045b6a1d6"
   }
  }
 },
 "nbformat": 4,
 "nbformat_minor": 2,
 "cells": [
  {
   "cell_type": "code",
   "execution_count": 4,
   "metadata": {},
   "outputs": [
    {
     "output_type": "stream",
     "name": "stdout",
     "text": [
      "Hi Mo I am thinking of a number between 1 and 10\n",
      "Unlucky it was not 3 It was 9\n"
     ]
    }
   ],
   "source": [
    "#Task 1 \n",
    "\"\"\"\n",
    "Write a program that does the following:\n",
    "a) Stores a random number (1-10) in a variable – see hint below.\n",
    "b) Asks a user for their name and stores this in a variable.\n",
    "c) Asks a user to guess the number between 1 and 10.\n",
    "d) Tells the user whether they have guessed correctly.\n",
    "\"\"\"\n",
    "\n",
    "import random\n",
    "RNumber = random.randint(1,10)\n",
    "NameQ =input(\"What is your name?\")\n",
    "\n",
    "print(\"Hi\", NameQ, \"I am thinking of a number between 1 and 10\") \n",
    "\n",
    "Guessed_number = int(input(\"Guess the number\"))\n",
    "\n",
    "\n",
    "\n",
    "if Guessed_number == RNumber:\n",
    "    print(\"Congratulations\", NameQ, \"You are right!!\")\n",
    "else:\n",
    "    print(\"Unlucky\", \"it was not\",Guessed_number, \"It was\", RNumber)\n",
    "    "
   ]
  },
  {
   "cell_type": "code",
   "execution_count": 3,
   "metadata": {},
   "outputs": [
    {
     "output_type": "stream",
     "name": "stdout",
     "text": [
      "I can’t believe I got fired from the calendar factory. All I did was take a day off!\n"
     ]
    }
   ],
   "source": [
    "\"\"\"\n",
    "Task 2\n",
    "Write a program that asks a user for their favourite number between 1 \n",
    "and 100 and then tells them a joke based on the number. You should \n",
    "use a minimum of 3 jokes\n",
    "\"\"\"\n",
    "Joke1= \"I can’t believe I got fired from the calendar factory. All I did was take a day off!\"\n",
    "Joke2=\"Why do bees hum? They don’t remember the lyrics!\"\n",
    "Joke3=\"Money talks. Mine always says goodbye.\"\n",
    "\n",
    "Jnumber = int(input(\"Choose a number between 1 and 100\"))\n",
    "\n",
    "if not(Jnumber >= 1 and Jnumber <=100):\n",
    "   print(Jnumber,\"is not between 1 and 100\")\n",
    "elif Jnumber > 65 and Jnumber <=100:\n",
    "  print(Joke3)\n",
    "elif Jnumber < 34:\n",
    "    print(Joke1)\n",
    "elif Jnumber >= 34 and Jnumber <=65:\n",
    "      print(Joke2)"
   ]
  },
  {
   "cell_type": "code",
   "execution_count": 7,
   "metadata": {},
   "outputs": [
    {
     "output_type": "stream",
     "name": "stdout",
     "text": [
      "Your favourite meal is a dumplings and pizza with a glass of coke and waffles for dessert.\n"
     ]
    }
   ],
   "source": [
    "\"\"\"\n",
    "Task 3\n",
    "Write a program that allows user to enter their favourite starter, main \n",
    "course, dessert and drink.\n",
    "Concatenate these and output a message which says – “Your favourite \n",
    "meal is ………with a glass of….”\n",
    "\"\"\"\n",
    "Starter = input(\"What is your favourite starter?\")\n",
    "Main = input(\"What is your favourite main course meal?\")\n",
    "Dessert = input(\"What is your favourite dessert?\")\n",
    "Drink = input(\"What is your favourite drink?\")\n",
    "\n",
    "print(\"Your favourite meal is a\", Starter,\"and\", Main, \"with a glass of\", Drink, \"and\", Dessert, \"for dessert.\")"
   ]
  },
  {
   "cell_type": "code",
   "execution_count": 2,
   "metadata": {
    "tags": []
   },
   "outputs": [
    {
     "output_type": "stream",
     "name": "stdout",
     "text": [
      "The motorbike will have a value of £2000 in Year 1.\nThe motorbike will have a value of £1800.0 in Year 2.\nThe motorbike will have a value of £1620.0 in Year 3.\nThe motorbike will have a value of £1458.0 in Year 4.\nThe motorbike will have a value of £1312.2 in Year 5.\nThe motorbike will have a value of £1180.98 in Year 6.\nThe motorbike will have a value of £1062.88 in Year 7.\nThe motorbike will have a value of £956.59 in Year 8.\n"
     ]
    }
   ],
   "source": [
    "\"\"\"\n",
    "Task 4\n",
    "A motorbike costs £2000 and loses 10% of its value every year. Using a \n",
    "loop, print the value of the bike every following year until it falls below \n",
    "£1000\n",
    "\"\"\"\n",
    "\n",
    "b = 1\n",
    "a = 2000\n",
    "statement = \"The motorbike will have a value of £{} in Year {}.\"\n",
    "while a > 0:\n",
    " print(statement.format(round(a,2),b))\n",
    " if (a < 1000):\n",
    "  break\n",
    " a *= .9\n",
    " b += 1\n",
    "  \n"
   ]
  },
  {
   "cell_type": "code",
   "execution_count": null,
   "metadata": {},
   "outputs": [],
   "source": [
    "\"\"\"\n",
    "Task 5\n",
    "Write a program which will ask for two numbers from a user. Then \n",
    "offer a menu to the user giving them a choice of operator:\n",
    "e.g. – Enter “a” if you want to add\n",
    "“b” if you want to subtract\n",
    "Include +, -, /, *, ** square (to the power of). Once the user has \n",
    "selected which operator they wish to use, perform the calculation.\n",
    "\"\"\"\n"
   ]
  }
 ]
}